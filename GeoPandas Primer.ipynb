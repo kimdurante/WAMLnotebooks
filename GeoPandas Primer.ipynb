{
 "cells": [
  {
   "cell_type": "markdown",
   "metadata": {},
   "source": [
    "# GeoPandas Primer\n",
    "### Reading, writing, plotting, projections\n",
    "\n",
    "##### Start by importing Pandas, GeoPandas, and matplotlib.pyplot\n",
    "*Type:*  \n",
    "import pandas as pd  \n",
    "import geopandas as gpd  \n",
    "import matplotlib.pyplot as plt  \n",
    "import os"
   ]
  },
  {
   "cell_type": "code",
   "execution_count": null,
   "metadata": {},
   "outputs": [],
   "source": []
  },
  {
   "cell_type": "markdown",
   "metadata": {},
   "source": [
    "#### Change your working directory to the home folder\n",
    "\n",
    "Type the following to move back a directory:  \n",
    "*>>> os.chdir('../')*"
   ]
  },
  {
   "cell_type": "code",
   "execution_count": null,
   "metadata": {},
   "outputs": [],
   "source": []
  },
  {
   "cell_type": "markdown",
   "metadata": {},
   "source": [
    "### Let's get some data, anything will do...\n",
    "\n",
    "Type:  \n",
    "*>>> gpd.read_file('workshopsdata/WAML.geojson')*"
   ]
  },
  {
   "cell_type": "code",
   "execution_count": null,
   "metadata": {},
   "outputs": [],
   "source": []
  },
  {
   "cell_type": "markdown",
   "metadata": {},
   "source": [
    "#### You imported a geojson file named WAML! This is referred to as a GeoDataFrame.\n",
    "\n",
    "Now make it a variable by *typing:*  \n",
    "*>>> waml = gpd.read_file('workshopdata/WAML.geojson')*"
   ]
  },
  {
   "cell_type": "code",
   "execution_count": null,
   "metadata": {},
   "outputs": [],
   "source": []
  },
  {
   "cell_type": "markdown",
   "metadata": {},
   "source": [
    "#### Nice!\n",
    "\n",
    "What the heck is this thing?\n",
    "\n",
    "Plot it with matplotlib by *typing:*  \n",
    "*>>> waml.plot()*"
   ]
  },
  {
   "cell_type": "code",
   "execution_count": null,
   "metadata": {},
   "outputs": [],
   "source": []
  },
  {
   "cell_type": "markdown",
   "metadata": {},
   "source": [
    "## Amazing.\n",
    "\n",
    "Let's now find out the coordinate reference system of WAML.geojson\n",
    "\n",
    "*Type:*  \n",
    "*>>> waml.crs*"
   ]
  },
  {
   "cell_type": "code",
   "execution_count": null,
   "metadata": {},
   "outputs": [],
   "source": []
  },
  {
   "cell_type": "markdown",
   "metadata": {},
   "source": [
    "#### Good. The CRS is epsg 4326... AKA WGS84\n",
    "\n",
    "Let's create a copy of the layer and reset it's CRS to Lambert Conformal Conic\n",
    "\n",
    "*Type:*  \n",
    "*>>> waml_lcc=waml.to_crs(epsg=2163)*"
   ]
  },
  {
   "cell_type": "code",
   "execution_count": null,
   "metadata": {},
   "outputs": [],
   "source": []
  },
  {
   "cell_type": "markdown",
   "metadata": {},
   "source": [
    "#### Now, let's view the difference\n",
    "\n",
    "*Type:*  \n",
    "*>>> waml_lcc.plot()*"
   ]
  },
  {
   "cell_type": "code",
   "execution_count": null,
   "metadata": {},
   "outputs": [],
   "source": []
  },
  {
   "cell_type": "markdown",
   "metadata": {},
   "source": [
    "#### Okay, there are other methods to reset the crs, too. Let's change it to Transverse Mercator\n",
    "\n",
    "*Type:*  \n",
    "*>>> waml_tm = waml.to_crs({'proj':'tmerc'})*"
   ]
  },
  {
   "cell_type": "code",
   "execution_count": null,
   "metadata": {},
   "outputs": [],
   "source": []
  },
  {
   "cell_type": "markdown",
   "metadata": {},
   "source": [
    "#### view the difference\n",
    "*Type:*   \n",
    "*>>> waml_tm.plot()*"
   ]
  },
  {
   "cell_type": "code",
   "execution_count": null,
   "metadata": {},
   "outputs": [],
   "source": []
  },
  {
   "cell_type": "markdown",
   "metadata": {},
   "source": [
    "#### Let's change it to NAD83 Nevada Central?\n",
    "\n",
    "#### How do I know what code to use? Pro tip: https://spatialreference.org\n",
    "\n",
    "*Type:*  \n",
    "*>>> waml_Nev = waml.to_crs(epsg = 3422)*"
   ]
  },
  {
   "cell_type": "code",
   "execution_count": null,
   "metadata": {},
   "outputs": [],
   "source": []
  },
  {
   "cell_type": "markdown",
   "metadata": {},
   "source": [
    "#### Plot it:\n",
    "\n",
    "*Type:*  \n",
    "*>>> waml_Nev.plot()*"
   ]
  },
  {
   "cell_type": "code",
   "execution_count": null,
   "metadata": {},
   "outputs": [],
   "source": []
  },
  {
   "cell_type": "markdown",
   "metadata": {},
   "source": [
    "#### Okay, so far we've basically been creating all this stuff using RAM. Let's export the waml_Nev variable to a shapefile.\n",
    "\n",
    "*Type:*  \n",
    "*>>> waml_Nev.to_file('waml_Nev.shp')*"
   ]
  },
  {
   "cell_type": "code",
   "execution_count": null,
   "metadata": {},
   "outputs": [],
   "source": []
  },
  {
   "cell_type": "markdown",
   "metadata": {},
   "source": [
    "#### Go check your data folder to confirm.\n",
    "\n",
    "## But shapefiles are lame and boring. Let's make a geojson file instead:\n",
    "\n",
    "*Type:*  \n",
    "*>>> waml_Nev.to_file('waml_Nev.geojson', driver='GeoJSON')*"
   ]
  },
  {
   "cell_type": "code",
   "execution_count": null,
   "metadata": {},
   "outputs": [],
   "source": []
  },
  {
   "cell_type": "markdown",
   "metadata": {},
   "source": [
    "## Nice work!"
   ]
  }
 ],
 "metadata": {
  "kernelspec": {
   "display_name": "Python 3",
   "language": "python",
   "name": "python3"
  },
  "language_info": {
   "codemirror_mode": {
    "name": "ipython",
    "version": 3
   },
   "file_extension": ".py",
   "mimetype": "text/x-python",
   "name": "python",
   "nbconvert_exporter": "python",
   "pygments_lexer": "ipython3",
   "version": "3.6.7"
  }
 },
 "nbformat": 4,
 "nbformat_minor": 2
}
