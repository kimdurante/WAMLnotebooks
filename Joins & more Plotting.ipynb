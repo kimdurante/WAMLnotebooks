{
 "cells": [
  {
   "cell_type": "markdown",
   "metadata": {},
   "source": [
    "## Joins and More Plotting\n",
    "\n",
    "For more information on joins, see: http://geopandas.org/mergingdata.html  \n",
    "For more information on plotting and styling, see: http://geopandas.org/mapping.html\n",
    "\n",
    "#### This time, we will build on the census tract dataframes we worked with earlier and join them to a GeoDataFrame.\n",
    "\n",
    "Start by importing pandas as pd, geopandas as gpd, matplotlib.pyplot as plt, and os"
   ]
  },
  {
   "cell_type": "code",
   "execution_count": null,
   "metadata": {},
   "outputs": [],
   "source": []
  },
  {
   "cell_type": "markdown",
   "metadata": {},
   "source": [
    "#### Set your working directory using os to workshopdata/\n",
    "*Type:*   \n",
    "*>>> os.chdir('../')*\n",
    "\n",
    "In the next cell, *type:*  \n",
    "*>>> os.getcwd()* to view your current directory."
   ]
  },
  {
   "cell_type": "code",
   "execution_count": null,
   "metadata": {},
   "outputs": [],
   "source": []
  },
  {
   "cell_type": "code",
   "execution_count": null,
   "metadata": {},
   "outputs": [],
   "source": []
  },
  {
   "cell_type": "markdown",
   "metadata": {},
   "source": [
    "### Import your data.\n",
    "\n",
    "Use gpd.read_file() to import the following as a variable named TahoeTracts: TahoeTracts.geojson file from the workshopdata folder.\n",
    "\n",
    "Use pd.read_csv() to import the following as a variable named AllTracts: the All_Counties.csv you produced in the earlier exercise. Should be in your current working directory."
   ]
  },
  {
   "cell_type": "code",
   "execution_count": null,
   "metadata": {},
   "outputs": [],
   "source": []
  },
  {
   "cell_type": "code",
   "execution_count": null,
   "metadata": {},
   "outputs": [],
   "source": []
  },
  {
   "cell_type": "markdown",
   "metadata": {},
   "source": [
    "#### View your new TahoeTracts geodataframe and your AllTracts dataframe in the next two cells:"
   ]
  },
  {
   "cell_type": "code",
   "execution_count": null,
   "metadata": {},
   "outputs": [],
   "source": []
  },
  {
   "cell_type": "code",
   "execution_count": null,
   "metadata": {},
   "outputs": [],
   "source": []
  },
  {
   "cell_type": "markdown",
   "metadata": {},
   "source": [
    "### We will now perform a table join and add the attributes from AllTracts to TahoeTracts. We will join on the 'GEOID' columns.\n",
    "\n",
    "# But...\n",
    "\n",
    "#### Look closely at the AllTracts GEOID column. Notice anything? \n",
    "\n",
    "*type:*  \n",
    "*>>> AllTracts.GEOID*"
   ]
  },
  {
   "cell_type": "code",
   "execution_count": null,
   "metadata": {},
   "outputs": [],
   "source": []
  },
  {
   "cell_type": "markdown",
   "metadata": {},
   "source": [
    "### Arrgghh! Classic problem: leading zeros have been stripped. WHY?!?!?!\n",
    "\n",
    "### Fix it! Reimport the All_Counites.csv file to the same variable, but this time we'll tell pandas the 'GEOID' column should be read as a string.\n",
    "\n",
    "*Type:*  \n",
    "*>>> AllTracts = pd.read_csv('All_Counties.csv', DTYPE = {\"GEOID\":str})"
   ]
  },
  {
   "cell_type": "code",
   "execution_count": null,
   "metadata": {},
   "outputs": [],
   "source": []
  },
  {
   "cell_type": "markdown",
   "metadata": {},
   "source": [
    "Check the results by *Typing:* AllTracts.GEOID"
   ]
  },
  {
   "cell_type": "code",
   "execution_count": null,
   "metadata": {},
   "outputs": [],
   "source": []
  },
  {
   "cell_type": "markdown",
   "metadata": {},
   "source": [
    "#### Hell Yes!\n",
    "\n",
    "### Next, let's join AllTracts to TahoeTracts, dropping what we don't need from the AllTracts.\n",
    "Note: TahoeTracts only consists of the census tracts around Lake Tahoe and that there are 25 tracts, but AllTracts represents all the tracts within each county bordering the lake: 257 tracts in total.\n",
    "\n",
    "*Type:*  \n",
    "*>>> TahoeTracts = TahoeTracts.merge(AllTracts, on='GEOID')*"
   ]
  },
  {
   "cell_type": "code",
   "execution_count": null,
   "metadata": {},
   "outputs": [],
   "source": []
  },
  {
   "cell_type": "markdown",
   "metadata": {},
   "source": [
    "### Ya did it.\n",
    "\n",
    "View the results by *typing:*  \n",
    "*>>> TahoeTracts*"
   ]
  },
  {
   "cell_type": "code",
   "execution_count": null,
   "metadata": {},
   "outputs": [],
   "source": []
  },
  {
   "cell_type": "markdown",
   "metadata": {},
   "source": [
    "### Great! You've added over a hundred columns. This is the same as a \"join\" in ArcGIS.\n",
    "\n",
    "#### Let's export this because we will use this file again later.\n",
    "\n",
    "*Type:*  \n",
    "*>>> TahoeTracts.to_file('TahoeTracts_geodata.geojson', driver = 'GeoJSON')*"
   ]
  },
  {
   "cell_type": "code",
   "execution_count": null,
   "metadata": {},
   "outputs": [],
   "source": []
  },
  {
   "cell_type": "markdown",
   "metadata": {},
   "source": [
    "## Now let's work on plotting.\n",
    "\n",
    "Plot it! *Type:*   \n",
    "*>>> TahoeTracts.plot()*"
   ]
  },
  {
   "cell_type": "code",
   "execution_count": null,
   "metadata": {},
   "outputs": [],
   "source": []
  },
  {
   "cell_type": "markdown",
   "metadata": {},
   "source": [
    "### Now try making a choropleth\n",
    "\n",
    "First, *Type:*  \n",
    "*>>> list(TahoeTracts)* to list all of the column headers"
   ]
  },
  {
   "cell_type": "code",
   "execution_count": null,
   "metadata": {},
   "outputs": [],
   "source": []
  },
  {
   "cell_type": "markdown",
   "metadata": {},
   "source": [
    "#### Next, \n",
    "\n",
    "*Type:*  \n",
    "*>>> TahoeTracts.plot('a column name')*"
   ]
  },
  {
   "cell_type": "code",
   "execution_count": null,
   "metadata": {},
   "outputs": [],
   "source": []
  },
  {
   "cell_type": "markdown",
   "metadata": {},
   "source": [
    "#### Add a legend\n",
    "\n",
    "*Type:*  \n",
    "*>>> TahoeTracts.plot('Median Household Income (In 2017 Inflation Adjusted Dollars)', legend=True)*"
   ]
  },
  {
   "cell_type": "code",
   "execution_count": null,
   "metadata": {},
   "outputs": [],
   "source": []
  },
  {
   "cell_type": "markdown",
   "metadata": {},
   "source": [
    "#### Change the figure size\n",
    "\n",
    "*Type:*  \n",
    "*>>> TahoeTracts.plot('Median Household Income (In 2017 Inflation Adjusted Dollars)', legend=True, figsize = (8,8))*"
   ]
  },
  {
   "cell_type": "code",
   "execution_count": null,
   "metadata": {},
   "outputs": [],
   "source": []
  },
  {
   "cell_type": "markdown",
   "metadata": {},
   "source": [
    "#### Next, modify the color scheme\n",
    "\n",
    "*Type:*  \n",
    "*>>>TahoeTracts.plot('Median Household Income (In 2017 Inflation Adjusted Dollars)', legend=True, figsize = (8,8), cmap='OrRd')*"
   ]
  },
  {
   "cell_type": "code",
   "execution_count": null,
   "metadata": {},
   "outputs": [],
   "source": []
  },
  {
   "cell_type": "markdown",
   "metadata": {},
   "source": [
    "#### You love this *beautiful* map! So Save it as an image!\n",
    "\n",
    "Past your code form the previous cell into the cell below. Press enter to add a second line, then *Type:*  \n",
    "*>>> plt.savefig('TahoeMHHI.png')*"
   ]
  },
  {
   "cell_type": "code",
   "execution_count": null,
   "metadata": {},
   "outputs": [],
   "source": []
  },
  {
   "cell_type": "markdown",
   "metadata": {},
   "source": [
    "## Done! Open up yor data folder and double click on TahoeMHHI.png to view"
   ]
  },
  {
   "cell_type": "markdown",
   "metadata": {},
   "source": [
    "\n",
    "\n",
    "#### Bonus! Want to add another layer?\n",
    "\n",
    "Add a points of interest layer:\n",
    "\n",
    "*Type:*  \n",
    "*>>> POIs = gpd.read_file('workshopdata/Tahoe_POIs.geojson)*"
   ]
  },
  {
   "cell_type": "code",
   "execution_count": null,
   "metadata": {},
   "outputs": [],
   "source": []
  },
  {
   "cell_type": "markdown",
   "metadata": {},
   "source": [
    "#### Now, as before, use TahoeTracts.plot(), but you will make it a variable named 'basemap'\n",
    "\n",
    "*In the next cell, first type:*   \n",
    "*>>> basemap = TahoeTracts.plot()*\n",
    "\n",
    "#### Then, plot the 'POIs' layer and pass 'ax = basemap' as the only arguement (that is, put it in the parentheses)\n",
    "\n",
    "*In a new line in the same cell, type:*   \n",
    "*>>> POIs.plot(ax = basemap)*"
   ]
  },
  {
   "cell_type": "code",
   "execution_count": null,
   "metadata": {},
   "outputs": [],
   "source": []
  },
  {
   "cell_type": "markdown",
   "metadata": {},
   "source": [
    "#### Hey, what the heck?! I thought this was supposed to work.\n",
    "\n",
    "## Time for you to troubleshoot. What do you think the problem is? How might you fix it?"
   ]
  },
  {
   "cell_type": "code",
   "execution_count": null,
   "metadata": {},
   "outputs": [],
   "source": []
  },
  {
   "cell_type": "code",
   "execution_count": null,
   "metadata": {},
   "outputs": [],
   "source": []
  },
  {
   "cell_type": "code",
   "execution_count": null,
   "metadata": {},
   "outputs": [],
   "source": []
  },
  {
   "cell_type": "markdown",
   "metadata": {},
   "source": [
    "#### You have two layers displayed, but now let's sytle them\n",
    "\n",
    "Past the above code into the next cell, but add styling parameters to TahoeTracts: \n",
    "\n",
    "Modify 'basemap' adding *color='white', edgecolor='blue', figsize = (8,8)* into the TahoeTracts.plot() parentheses\n",
    "\n",
    "for POIs.plot(), add *color = 'red'* into POIS.plot() parentheses"
   ]
  },
  {
   "cell_type": "code",
   "execution_count": null,
   "metadata": {},
   "outputs": [],
   "source": []
  }
 ],
 "metadata": {
  "kernelspec": {
   "display_name": "Python 3",
   "language": "python",
   "name": "python3"
  },
  "language_info": {
   "codemirror_mode": {
    "name": "ipython",
    "version": 3
   },
   "file_extension": ".py",
   "mimetype": "text/x-python",
   "name": "python",
   "nbconvert_exporter": "python",
   "pygments_lexer": "ipython3",
   "version": "3.6.7"
  }
 },
 "nbformat": 4,
 "nbformat_minor": 2
}
