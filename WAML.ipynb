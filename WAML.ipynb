{
 "cells": [
  {
   "cell_type": "markdown",
   "metadata": {},
   "source": [
    "### Introduction to Python for Map Librarians\n",
    "\n",
    "__Data Types__\n",
    "\n",
    "* Numbers\n",
    "* Strings\n",
    "* Lists\n",
    "* Dictionaries\n",
    "* Tuples\n",
    "\n",
    "__Packages__\n",
    "\n",
    "Python libraries consist of various packages. These external sources can be leveraged in code by using the *import* command\n",
    "\n",
    "\n",
    "\n",
    "\n",
    "\n"
   ]
  },
  {
   "cell_type": "code",
   "execution_count": 1,
   "metadata": {},
   "outputs": [
    {
     "name": "stdout",
     "output_type": "stream",
     "text": [
      "Wed Aug 14 18:41:47 2019\n"
     ]
    }
   ],
   "source": [
    "import time\n",
    "print (time.ctime())"
   ]
  },
  {
   "cell_type": "markdown",
   "metadata": {},
   "source": [
    "__Variables__\n",
    "\n",
    "Containers for storing data values. Values are assigned to a variable using the equals '=' sign."
   ]
  },
  {
   "cell_type": "code",
   "execution_count": 2,
   "metadata": {},
   "outputs": [
    {
     "name": "stdout",
     "output_type": "stream",
     "text": [
      "Joe\n"
     ]
    }
   ],
   "source": [
    "myname = 'Joe'\n",
    "print (myname)"
   ]
  },
  {
   "cell_type": "markdown",
   "metadata": {},
   "source": [
    "__Reading Files__\n",
    "\n",
    "Reading a _.csv_ file into a dataframe"
   ]
  },
  {
   "cell_type": "code",
   "execution_count": 3,
   "metadata": {},
   "outputs": [
    {
     "data": {
      "text/html": [
       "<div>\n",
       "<style scoped>\n",
       "    .dataframe tbody tr th:only-of-type {\n",
       "        vertical-align: middle;\n",
       "    }\n",
       "\n",
       "    .dataframe tbody tr th {\n",
       "        vertical-align: top;\n",
       "    }\n",
       "\n",
       "    .dataframe thead th {\n",
       "        text-align: right;\n",
       "    }\n",
       "</style>\n",
       "<table border=\"1\" class=\"dataframe\">\n",
       "  <thead>\n",
       "    <tr style=\"text-align: right;\">\n",
       "      <th></th>\n",
       "      <th>WKT</th>\n",
       "      <th>OBJECTID</th>\n",
       "      <th>Sheet_Num</th>\n",
       "      <th>Call_Short</th>\n",
       "      <th>Sheet_ID</th>\n",
       "      <th>Symph_Bar</th>\n",
       "      <th>Call_Num</th>\n",
       "      <th>Label</th>\n",
       "      <th>Druid</th>\n",
       "      <th>Purl</th>\n",
       "      <th>Title</th>\n",
       "      <th>Ckey</th>\n",
       "      <th>sheet</th>\n",
       "      <th>web_map</th>\n",
       "    </tr>\n",
       "  </thead>\n",
       "  <tbody>\n",
       "    <tr>\n",
       "      <th>0</th>\n",
       "      <td>POLYGON ((102.0 11.5,102.0 27.583333,125.0 27....</td>\n",
       "      <td>1</td>\n",
       "      <td>SHEET 9</td>\n",
       "      <td>G7801 .P6 S2000 .J28</td>\n",
       "      <td>G7801 .P6 S2000 .J28 SHEET 9</td>\n",
       "      <td>3.610522e+13</td>\n",
       "      <td>G7801 .P6 S2000 .J28 SHEET 9</td>\n",
       "      <td>Nihyakumanbun no ichi k?k?zu</td>\n",
       "      <td>xq929xc1250</td>\n",
       "      <td>http://purl.stanford.edu/xq929xc1250</td>\n",
       "      <td>Nihyakumanbun no ichi kōkūzu -- 二百万分一航空圖</td>\n",
       "      <td>10436352</td>\n",
       "      <td>1</td>\n",
       "      <td>http://stanford.maps.arcgis.com/apps/SimpleVie...</td>\n",
       "    </tr>\n",
       "    <tr>\n",
       "      <th>1</th>\n",
       "      <td>POLYGON ((100 21,100.0 35.5,123.5 35.5,123.5 2...</td>\n",
       "      <td>2</td>\n",
       "      <td>SHEET 8</td>\n",
       "      <td>G7801 .P6 S2000 .J28</td>\n",
       "      <td>G7801 .P6 S2000 .J28 SHEET 8</td>\n",
       "      <td>3.610522e+13</td>\n",
       "      <td>G7801 .P6 S2000 .J28 SHEET 8</td>\n",
       "      <td>Nihyakumanbun no ichi k?k?zu</td>\n",
       "      <td>rw478sz0083</td>\n",
       "      <td>http://purl.stanford.edu/rw478sz0083</td>\n",
       "      <td>Nihyakumanbun no ichi kōkūzu -- 二百万分一航空圖</td>\n",
       "      <td>10436352</td>\n",
       "      <td>1</td>\n",
       "      <td>http://stanford.maps.arcgis.com/apps/SimpleVie...</td>\n",
       "    </tr>\n",
       "    <tr>\n",
       "      <th>2</th>\n",
       "      <td>POLYGON ((104.5 33.0,104.5 50.0,121.0 50.0,121...</td>\n",
       "      <td>3</td>\n",
       "      <td>SHEET 7</td>\n",
       "      <td>G7801 .P6 S2000 .J28</td>\n",
       "      <td>G7801 .P6 S2000 .J28 SHEET 7</td>\n",
       "      <td>3.610522e+13</td>\n",
       "      <td>G7801 .P6 S2000 .J28 SHEET 7</td>\n",
       "      <td>Nihyakumanbun no ichi k?k?zu</td>\n",
       "      <td>tj760ry5586</td>\n",
       "      <td>http://purl.stanford.edu/tj760ry5586</td>\n",
       "      <td>Nihyakumanbun no ichi kōkūzu -- 二百万分一航空圖</td>\n",
       "      <td>10436352</td>\n",
       "      <td>1</td>\n",
       "      <td>http://stanford.maps.arcgis.com/apps/SimpleVie...</td>\n",
       "    </tr>\n",
       "    <tr>\n",
       "      <th>3</th>\n",
       "      <td>POLYGON ((100.0 47.833333,100 58,121 58,121.0 ...</td>\n",
       "      <td>4</td>\n",
       "      <td>SHEET 6</td>\n",
       "      <td>G7801 .P6 S2000 .J28</td>\n",
       "      <td>G7801 .P6 S2000 .J28 SHEET 6</td>\n",
       "      <td>3.610522e+13</td>\n",
       "      <td>G7801 .P6 S2000 .J28 SHEET 6</td>\n",
       "      <td>Nihyakumanbun no ichi k?k?zu</td>\n",
       "      <td>rj654dt3454</td>\n",
       "      <td>http://purl.stanford.edu/rj654dt3454</td>\n",
       "      <td>Nihyakumanbun no ichi kōkūzu -- 二百万分一航空圖</td>\n",
       "      <td>10436352</td>\n",
       "      <td>1</td>\n",
       "      <td>http://stanford.maps.arcgis.com/apps/SimpleVie...</td>\n",
       "    </tr>\n",
       "    <tr>\n",
       "      <th>4</th>\n",
       "      <td>POLYGON ((109.5 21.0,109.5 35.5,133.0 35.5,133...</td>\n",
       "      <td>5</td>\n",
       "      <td>SHEET 5</td>\n",
       "      <td>G7801 .P6 S2000 .J28</td>\n",
       "      <td>G7801 .P6 S2000 .J28 SHEET 5</td>\n",
       "      <td>3.610522e+13</td>\n",
       "      <td>G7801 .P6 S2000 .J28 SHEET 5</td>\n",
       "      <td>Nihyakumanbun no ichi k?k?zu</td>\n",
       "      <td>bh383tr4608</td>\n",
       "      <td>http://purl.stanford.edu/bh383tr4608</td>\n",
       "      <td>Nihyakumanbun no ichi kōkūzu -- 二百万分一航空圖</td>\n",
       "      <td>10436352</td>\n",
       "      <td>1</td>\n",
       "      <td>http://stanford.maps.arcgis.com/apps/SimpleVie...</td>\n",
       "    </tr>\n",
       "    <tr>\n",
       "      <th>5</th>\n",
       "      <td>POLYGON ((116.5 43.0,116.5 58.0,133 58,133.0 4...</td>\n",
       "      <td>6</td>\n",
       "      <td>SHEET 3</td>\n",
       "      <td>G7801 .P6 S2000 .J28</td>\n",
       "      <td>G7801 .P6 S2000 .J28 SHEET 3</td>\n",
       "      <td>3.610522e+13</td>\n",
       "      <td>G7801 .P6 S2000 .J28 SHEET 3</td>\n",
       "      <td>Nihyakumanbun no ichi k?k?zu</td>\n",
       "      <td>vr613fz3318</td>\n",
       "      <td>http://purl.stanford.edu/vr613fz3318</td>\n",
       "      <td>Nihyakumanbun no ichi kōkūzu -- 二百万分一航空圖</td>\n",
       "      <td>10436352</td>\n",
       "      <td>1</td>\n",
       "      <td>http://stanford.maps.arcgis.com/apps/SimpleVie...</td>\n",
       "    </tr>\n",
       "    <tr>\n",
       "      <th>6</th>\n",
       "      <td>POLYGON ((129.0 40.5,129.0 56.0,146.0 56.0,146...</td>\n",
       "      <td>7</td>\n",
       "      <td>SHEET 1</td>\n",
       "      <td>G7801 .P6 S2000 .J28</td>\n",
       "      <td>G7801 .P6 S2000 .J28 SHEET 1</td>\n",
       "      <td>3.610522e+13</td>\n",
       "      <td>G7801 .P6 S2000 .J28 SHEET 1</td>\n",
       "      <td>Nihyakumanbun no ichi k?k?zu</td>\n",
       "      <td>qf331pm3870</td>\n",
       "      <td>http://purl.stanford.edu/qf331pm3870</td>\n",
       "      <td>Nihyakumanbun no ichi kōkūzu -- 二百万分一航空圖</td>\n",
       "      <td>10436352</td>\n",
       "      <td>1</td>\n",
       "      <td>http://stanford.maps.arcgis.com/apps/SimpleVie...</td>\n",
       "    </tr>\n",
       "  </tbody>\n",
       "</table>\n",
       "</div>"
      ],
      "text/plain": [
       "                                                 WKT  OBJECTID Sheet_Num  \\\n",
       "0  POLYGON ((102.0 11.5,102.0 27.583333,125.0 27....         1   SHEET 9   \n",
       "1  POLYGON ((100 21,100.0 35.5,123.5 35.5,123.5 2...         2   SHEET 8   \n",
       "2  POLYGON ((104.5 33.0,104.5 50.0,121.0 50.0,121...         3   SHEET 7   \n",
       "3  POLYGON ((100.0 47.833333,100 58,121 58,121.0 ...         4   SHEET 6   \n",
       "4  POLYGON ((109.5 21.0,109.5 35.5,133.0 35.5,133...         5   SHEET 5   \n",
       "5  POLYGON ((116.5 43.0,116.5 58.0,133 58,133.0 4...         6   SHEET 3   \n",
       "6  POLYGON ((129.0 40.5,129.0 56.0,146.0 56.0,146...         7   SHEET 1   \n",
       "\n",
       "             Call_Short                      Sheet_ID     Symph_Bar  \\\n",
       "0  G7801 .P6 S2000 .J28  G7801 .P6 S2000 .J28 SHEET 9  3.610522e+13   \n",
       "1  G7801 .P6 S2000 .J28  G7801 .P6 S2000 .J28 SHEET 8  3.610522e+13   \n",
       "2  G7801 .P6 S2000 .J28  G7801 .P6 S2000 .J28 SHEET 7  3.610522e+13   \n",
       "3  G7801 .P6 S2000 .J28  G7801 .P6 S2000 .J28 SHEET 6  3.610522e+13   \n",
       "4  G7801 .P6 S2000 .J28  G7801 .P6 S2000 .J28 SHEET 5  3.610522e+13   \n",
       "5  G7801 .P6 S2000 .J28  G7801 .P6 S2000 .J28 SHEET 3  3.610522e+13   \n",
       "6  G7801 .P6 S2000 .J28  G7801 .P6 S2000 .J28 SHEET 1  3.610522e+13   \n",
       "\n",
       "                       Call_Num                         Label        Druid  \\\n",
       "0  G7801 .P6 S2000 .J28 SHEET 9  Nihyakumanbun no ichi k?k?zu  xq929xc1250   \n",
       "1  G7801 .P6 S2000 .J28 SHEET 8  Nihyakumanbun no ichi k?k?zu  rw478sz0083   \n",
       "2  G7801 .P6 S2000 .J28 SHEET 7  Nihyakumanbun no ichi k?k?zu  tj760ry5586   \n",
       "3  G7801 .P6 S2000 .J28 SHEET 6  Nihyakumanbun no ichi k?k?zu  rj654dt3454   \n",
       "4  G7801 .P6 S2000 .J28 SHEET 5  Nihyakumanbun no ichi k?k?zu  bh383tr4608   \n",
       "5  G7801 .P6 S2000 .J28 SHEET 3  Nihyakumanbun no ichi k?k?zu  vr613fz3318   \n",
       "6  G7801 .P6 S2000 .J28 SHEET 1  Nihyakumanbun no ichi k?k?zu  qf331pm3870   \n",
       "\n",
       "                                   Purl  \\\n",
       "0  http://purl.stanford.edu/xq929xc1250   \n",
       "1  http://purl.stanford.edu/rw478sz0083   \n",
       "2  http://purl.stanford.edu/tj760ry5586   \n",
       "3  http://purl.stanford.edu/rj654dt3454   \n",
       "4  http://purl.stanford.edu/bh383tr4608   \n",
       "5  http://purl.stanford.edu/vr613fz3318   \n",
       "6  http://purl.stanford.edu/qf331pm3870   \n",
       "\n",
       "                                      Title      Ckey  sheet  \\\n",
       "0  Nihyakumanbun no ichi kōkūzu -- 二百万分一航空圖  10436352      1   \n",
       "1  Nihyakumanbun no ichi kōkūzu -- 二百万分一航空圖  10436352      1   \n",
       "2  Nihyakumanbun no ichi kōkūzu -- 二百万分一航空圖  10436352      1   \n",
       "3  Nihyakumanbun no ichi kōkūzu -- 二百万分一航空圖  10436352      1   \n",
       "4  Nihyakumanbun no ichi kōkūzu -- 二百万分一航空圖  10436352      1   \n",
       "5  Nihyakumanbun no ichi kōkūzu -- 二百万分一航空圖  10436352      1   \n",
       "6  Nihyakumanbun no ichi kōkūzu -- 二百万分一航空圖  10436352      1   \n",
       "\n",
       "                                             web_map  \n",
       "0  http://stanford.maps.arcgis.com/apps/SimpleVie...  \n",
       "1  http://stanford.maps.arcgis.com/apps/SimpleVie...  \n",
       "2  http://stanford.maps.arcgis.com/apps/SimpleVie...  \n",
       "3  http://stanford.maps.arcgis.com/apps/SimpleVie...  \n",
       "4  http://stanford.maps.arcgis.com/apps/SimpleVie...  \n",
       "5  http://stanford.maps.arcgis.com/apps/SimpleVie...  \n",
       "6  http://stanford.maps.arcgis.com/apps/SimpleVie...  "
      ]
     },
     "execution_count": 3,
     "metadata": {},
     "output_type": "execute_result"
    }
   ],
   "source": [
    "import pandas\n",
    "\n",
    "index = pandas.read_csv('JMM_B33_J99.csv')\n",
    "index"
   ]
  },
  {
   "cell_type": "markdown",
   "metadata": {},
   "source": [
    "__Finding Data__\n",
    "\n",
    "By column name"
   ]
  },
  {
   "cell_type": "code",
   "execution_count": 4,
   "metadata": {},
   "outputs": [
    {
     "data": {
      "text/plain": [
       "0    SHEET 9\n",
       "1    SHEET 8\n",
       "2    SHEET 7\n",
       "3    SHEET 6\n",
       "4    SHEET 5\n",
       "5    SHEET 3\n",
       "6    SHEET 1\n",
       "Name: Sheet_Num, dtype: object"
      ]
     },
     "execution_count": 4,
     "metadata": {},
     "output_type": "execute_result"
    }
   ],
   "source": [
    "index[\"Sheet_Num\"]"
   ]
  },
  {
   "cell_type": "markdown",
   "metadata": {},
   "source": [
    "__By column index__"
   ]
  },
  {
   "cell_type": "code",
   "execution_count": 37,
   "metadata": {},
   "outputs": [
    {
     "data": {
      "text/plain": [
       "0    POLYGON ((102.0 11.5,102.0 27.583333,125.0 27....\n",
       "1    POLYGON ((100 21,100.0 35.5,123.5 35.5,123.5 2...\n",
       "2    POLYGON ((104.5 33.0,104.5 50.0,121.0 50.0,121...\n",
       "3    POLYGON ((100.0 47.833333,100 58,121 58,121.0 ...\n",
       "4    POLYGON ((109.5 21.0,109.5 35.5,133.0 35.5,133...\n",
       "5    POLYGON ((116.5 43.0,116.5 58.0,133 58,133.0 4...\n",
       "6    POLYGON ((129.0 40.5,129.0 56.0,146.0 56.0,146...\n",
       "Name: WKT, dtype: object"
      ]
     },
     "execution_count": 37,
     "metadata": {},
     "output_type": "execute_result"
    }
   ],
   "source": [
    "index.iloc[ : , 0 ]"
   ]
  },
  {
   "cell_type": "markdown",
   "metadata": {},
   "source": [
    "__By row number__"
   ]
  },
  {
   "cell_type": "code",
   "execution_count": 38,
   "metadata": {},
   "outputs": [
    {
     "data": {
      "text/plain": [
       "WKT           POLYGON ((104.5 33.0,104.5 50.0,121.0 50.0,121...\n",
       "OBJECTID                                                      3\n",
       "Sheet_Num                                               SHEET 7\n",
       "Call_Short                                 G7801 .P6 S2000 .J28\n",
       "Sheet_ID                           G7801 .P6 S2000 .J28 SHEET 7\n",
       "Symph_Bar                                           3.61052e+13\n",
       "Call_Num                           G7801 .P6 S2000 .J28 SHEET 7\n",
       "Label                              Nihyakumanbun no ichi k?k?zu\n",
       "Druid                                               tj760ry5586\n",
       "Purl                       http://purl.stanford.edu/tj760ry5586\n",
       "Title                  Nihyakumanbun no ichi kōkūzu -- 二百万分一航空圖\n",
       "Ckey                                                   10436352\n",
       "sheet                                                         1\n",
       "web_map       http://stanford.maps.arcgis.com/apps/SimpleVie...\n",
       "Name: 2, dtype: object"
      ]
     },
     "execution_count": 38,
     "metadata": {},
     "output_type": "execute_result"
    }
   ],
   "source": [
    "index.loc[ 2 , : ]"
   ]
  },
  {
   "cell_type": "markdown",
   "metadata": {},
   "source": [
    "__Finding Files__\n",
    "\n",
    "Find all files"
   ]
  },
  {
   "cell_type": "code",
   "execution_count": 1,
   "metadata": {},
   "outputs": [
    {
     "name": "stdout",
     "output_type": "stream",
     "text": [
      "['JMM_B24_J161.csv', 'JMM_B33_J99.csv']\n"
     ]
    }
   ],
   "source": [
    "import glob\n",
    "filenames = (glob.glob('JMM*.csv'))\n",
    "print (filenames)"
   ]
  },
  {
   "cell_type": "code",
   "execution_count": 2,
   "metadata": {},
   "outputs": [
    {
     "name": "stdout",
     "output_type": "stream",
     "text": [
      "JMM_B24_J161.csv\n",
      "identifiers.csv\n",
      "JMM_B33_J99.csv\n",
      "R12259573_SL140.csv\n",
      "California_Counties.csv\n",
      "Nevada_Counties.csv\n",
      "All_Counties.csv\n"
     ]
    }
   ],
   "source": [
    "import os\n",
    "for dirName, subDirs, fileNames in os.walk('.'):\n",
    "    for f in fileNames:\n",
    "        if f.endswith('.csv'):\n",
    "            print (f)"
   ]
  },
  {
   "cell_type": "markdown",
   "metadata": {},
   "source": [
    "__Loops__\n",
    "\n",
    "Explain what loops are...\n",
    "\n",
    "For each file in the list ('filenames'), print it out to a new line"
   ]
  },
  {
   "cell_type": "code",
   "execution_count": 3,
   "metadata": {},
   "outputs": [
    {
     "name": "stdout",
     "output_type": "stream",
     "text": [
      "JMM_B24_J161.csv\n",
      "JMM_B33_J99.csv\n"
     ]
    }
   ],
   "source": [
    "for f in filenames:\n",
    "    print (f)"
   ]
  },
  {
   "cell_type": "code",
   "execution_count": 6,
   "metadata": {},
   "outputs": [
    {
     "name": "stdout",
     "output_type": "stream",
     "text": [
      "JMM_B24_J161.csv\n",
      "0    G8064 .D245 S50 .J3 SHEET 8\n",
      "1    G8064 .D245 S50 .J3 SHEET 7\n",
      "2    G8064 .D245 S50 .J3 SHEET 6\n",
      "3    G8064 .D245 S50 .J3 SHEET 4\n",
      "4    G8064 .D245 S50 .J3 SHEET 5\n",
      "5    G8064 .D245 S50 .J3 SHEET 3\n",
      "6    G8064 .D245 S50 .J3 SHEET 1\n",
      "7    G8064 .D245 S50 .J3 SHEET 2\n",
      "Name: Sheet_ID, dtype: object\n",
      "JMM_B33_J99.csv\n",
      "0    G7801 .P6 S2000 .J28 SHEET 9\n",
      "1    G7801 .P6 S2000 .J28 SHEET 8\n",
      "2    G7801 .P6 S2000 .J28 SHEET 7\n",
      "3    G7801 .P6 S2000 .J28 SHEET 6\n",
      "4    G7801 .P6 S2000 .J28 SHEET 5\n",
      "5    G7801 .P6 S2000 .J28 SHEET 3\n",
      "6    G7801 .P6 S2000 .J28 SHEET 1\n",
      "Name: Sheet_ID, dtype: object\n"
     ]
    }
   ],
   "source": [
    "for f in filenames:\n",
    "    df = pandas.read_csv(f)\n",
    "    print (f)\n",
    "    print (df['Sheet_ID'])"
   ]
  },
  {
   "cell_type": "markdown",
   "metadata": {},
   "source": [
    "__Compare Columns from 2 Files__"
   ]
  },
  {
   "cell_type": "code",
   "execution_count": null,
   "metadata": {},
   "outputs": [],
   "source": []
  }
 ],
 "metadata": {
  "kernelspec": {
   "display_name": "Python 3",
   "language": "python",
   "name": "python3"
  },
  "language_info": {
   "codemirror_mode": {
    "name": "ipython",
    "version": 3
   },
   "file_extension": ".py",
   "mimetype": "text/x-python",
   "name": "python",
   "nbconvert_exporter": "python",
   "pygments_lexer": "ipython3",
   "version": "3.6.7"
  }
 },
 "nbformat": 4,
 "nbformat_minor": 2
}
