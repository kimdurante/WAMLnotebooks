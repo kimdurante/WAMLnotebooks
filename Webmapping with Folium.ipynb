{
 "cells": [
  {
   "cell_type": "markdown",
   "metadata": {},
   "source": [
    "## Making a Leaflet map using Folium, GeoPandas, and Pandas\n",
    "\n",
    "Folium reference: https://python-visualization.github.io/folium/quickstart.html#Getting-Started  \n",
    "\n",
    "#### Start by importing folium, pandas as pd, and geopandas as gpd, and os"
   ]
  },
  {
   "cell_type": "code",
   "execution_count": null,
   "metadata": {},
   "outputs": [],
   "source": []
  },
  {
   "cell_type": "markdown",
   "metadata": {},
   "source": [
    "#### Set your working directory to the home folder"
   ]
  },
  {
   "cell_type": "code",
   "execution_count": null,
   "metadata": {},
   "outputs": [],
   "source": []
  },
  {
   "cell_type": "markdown",
   "metadata": {},
   "source": [
    "#### Add the TahoeTracts_geodata.geojson file created earlier to a new geodataframe named 'tahoeTracts'  \n",
    "*Type:*  \n",
    "*>>> tahoeTracts = gpd.read_file('TahoeTracts_geodata.geojson')*"
   ]
  },
  {
   "cell_type": "code",
   "execution_count": null,
   "metadata": {},
   "outputs": [],
   "source": []
  },
  {
   "cell_type": "markdown",
   "metadata": {},
   "source": [
    "#### First, we'll make a very basic map without any layers:\n",
    "\n",
    "*Type:*  \n",
    "*>>> map = folium.Map()*  \n",
    "*>>> map*"
   ]
  },
  {
   "cell_type": "code",
   "execution_count": null,
   "metadata": {},
   "outputs": [],
   "source": []
  },
  {
   "cell_type": "markdown",
   "metadata": {},
   "source": [
    "### You made a map!\n",
    "\n",
    "##### Now let's customize it by padding a few parameters...\n",
    "\n",
    "*Type:*   \n",
    "*>>> m = folium.Map(  \n",
    "    location = [39.025, -120.032349],  \n",
    "    tiles = 'Stamen Terrain',  \n",
    "    zoom_start = 10  \n",
    "    )  \n",
    "*>>> m*"
   ]
  },
  {
   "cell_type": "code",
   "execution_count": null,
   "metadata": {},
   "outputs": [],
   "source": []
  },
  {
   "cell_type": "markdown",
   "metadata": {},
   "source": [
    "### Great. We changed the starting point, changed the basemap, and the zoom level.\n",
    "\n",
    "##### Now let's add a data layer:\n",
    "\n",
    "*Type:*  \n",
    "*>>> m = folium.Map( location = [39.025, -120.032349], tiles = 'Stamen Terrain', zoom_start = 10 )*\n",
    "\n",
    "*>>> folium.GeoJson(tahoeTracts).add_to(m)*\n",
    "\n",
    "*>>> m*"
   ]
  },
  {
   "cell_type": "code",
   "execution_count": null,
   "metadata": {},
   "outputs": [],
   "source": []
  },
  {
   "cell_type": "markdown",
   "metadata": {},
   "source": [
    "#### Easy, right? Now let's change the layer styling.\n",
    "\n",
    "Paste the above code into the following cell and make the following modifications:\n",
    "\n",
    "*>>> m = folium.Map(location = [39.025, -120.032349], tiles = 'Stamen Terrain', zoom_start = 10 )*\n",
    "\n",
    "*>>> folium.GeoJson(tahoeTracts, **style_function = lambda feature: {'fillColor': '#00ff00'}**).add_to(m)*\n",
    "\n",
    "*>>> m*"
   ]
  },
  {
   "cell_type": "code",
   "execution_count": null,
   "metadata": {},
   "outputs": [],
   "source": []
  },
  {
   "cell_type": "markdown",
   "metadata": {},
   "source": [
    "### Cool!  \n",
    "To make this easier to read, you can add returns to those long, in-line code snippets, like so:\n",
    "\n",
    "*Type this out manually in the cell below:*  \n",
    "\n",
    "*>>>*  \n",
    "m = folium.Map(  \n",
    "    location = [39.025, -120.032349],   \n",
    "    tiles = 'Stamen Terrain',   \n",
    "    zoom_start = 10  \n",
    "    )  \n",
    "  \n",
    "*>>>*    \n",
    "folium.GeoJson(tahoeTracts,   \n",
    "               style_function = lambda feature: {'fillColor': '#00ff00'}  \n",
    "              ).add_to(m)  \n",
    "  \n",
    "*>>> m*"
   ]
  },
  {
   "cell_type": "code",
   "execution_count": null,
   "metadata": {},
   "outputs": [],
   "source": []
  },
  {
   "cell_type": "markdown",
   "metadata": {},
   "source": [
    "#### Easier to read now? Good!\n",
    "\n",
    "You can also move the style function to a variable, which will make make it easier to read and further customize.\n",
    "\n",
    "*Type:*  \n",
    "\n",
    "*>>>*  \n",
    "style = lambda feature: {'fillColor': '#00ff00',  \n",
    "            'color': 'Green',\n",
    "            'weight':2}  \n",
    "            \n",
    "*>>>*            \n",
    "m = folium.Map(  \n",
    "    location = [39.025, -120.032349],   \n",
    "    tiles = 'Stamen Terrain',   \n",
    "    zoom_start = 10  \n",
    "    )  \n",
    "  \n",
    "*>>>*  \n",
    "folium.GeoJson(tahoeTracts,   \n",
    "               style_function = style  \n",
    "              ).add_to(m)  \n",
    "  \n",
    "*>>>m*"
   ]
  },
  {
   "cell_type": "code",
   "execution_count": null,
   "metadata": {},
   "outputs": [],
   "source": []
  },
  {
   "cell_type": "markdown",
   "metadata": {},
   "source": [
    "#### Go wild!  \n",
    "  \n",
    "\n",
    "## Now let's make a choropleth.\n",
    "\n",
    "##### Folium offers folium.choropleth() as an easy method to make a choropleth.\n",
    "This method takes a Pandas dataframe and joins it to a GeoJson on the fly to generate a choropleth.\n",
    "\n",
    "If your GeoJson or shapefile layer already have attributes baked in that you want to display, you can use a more complex alternative method here: https://nbviewer.jupyter.org/github/python-visualization/folium/blob/master/examples/plugin-Search.ipynb  \n",
    "\n",
    "##### My way is kind of a hack!  \n",
    "We *do* have attributes baked in, but I want to use the easier folium.choropleth() method.\n",
    "\n",
    "##### Q:What should we do if we need to add our choropleth data to our geodata, but our choropleth data is already part of our geodata?  \n",
    "\n",
    "##### A: Make a regular pandas dataframe out of our geodataframe, then add it back.\n",
    "\n",
    "### Yes, this is a hack!\n",
    "\n",
    "Create a pandas dataframe from the tahoeTracts geodataframe:  \n",
    "*Type:*  \n",
    "*>>> tractdata = pd.DataFrame(tahoeTracts)*"
   ]
  },
  {
   "cell_type": "code",
   "execution_count": null,
   "metadata": {},
   "outputs": [],
   "source": []
  },
  {
   "cell_type": "markdown",
   "metadata": {},
   "source": [
    "#### Now the attributes are in a separate dataframe.\n",
    "\n",
    "*Type the following:*  \n",
    "\n",
    "*>>>*  \n",
    "m = folium.Map(  \n",
    "    location = [39.025, -120.32349],  \n",
    "    tiles = 'Stamen Terrain',  \n",
    "    zoom_start = 10  \n",
    "    )  \n",
    "\n",
    "*>>>*  \n",
    "folium.Choropleth(  \n",
    "    geo_data = tahoeTracts,  \n",
    "    data = tractdata,  \n",
    "    columns = ['GEOID', 'Median Household Income (In 2017 Inflation Adjusted Dollars)'],  \n",
    "    key_on = 'feature.properties.GEOID',  \n",
    "    fill_color = 'RdYlGn',  \n",
    "    fill_opacity = 0.7,  \n",
    "    line_opacity = 0.5,  \n",
    "    ).add_to(m)  \n",
    "    \n",
    "*>>> m*    "
   ]
  },
  {
   "cell_type": "code",
   "execution_count": null,
   "metadata": {},
   "outputs": [],
   "source": []
  },
  {
   "cell_type": "markdown",
   "metadata": {},
   "source": [
    "## Ta Da!!!! You made a webmap using code! That is cool!\n",
    "\n",
    "#### Oh, you actually want to put that on the web? Easy!\n",
    "\n",
    "*Type:*  \n",
    "*>>> m.save('my_map.html')*"
   ]
  },
  {
   "cell_type": "code",
   "execution_count": null,
   "metadata": {},
   "outputs": [],
   "source": []
  },
  {
   "cell_type": "markdown",
   "metadata": {},
   "source": [
    "## Great Job! You're getting really good at this!"
   ]
  }
 ],
 "metadata": {
  "kernelspec": {
   "display_name": "Python 3",
   "language": "python",
   "name": "python3"
  },
  "language_info": {
   "codemirror_mode": {
    "name": "ipython",
    "version": 3
   },
   "file_extension": ".py",
   "mimetype": "text/x-python",
   "name": "python",
   "nbconvert_exporter": "python",
   "pygments_lexer": "ipython3",
   "version": "3.6.7"
  }
 },
 "nbformat": 4,
 "nbformat_minor": 2
}
