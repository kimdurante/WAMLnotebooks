{
 "cells": [
  {
   "cell_type": "markdown",
   "metadata": {},
   "source": [
    "# GeoPandas Primer\n",
    "### Reading, writing, plotting, projections\n",
    "\n",
    "##### Start by importing Pandas, GeoPandas, and matplotlib.pyplot\n",
    "*Type:*  \n",
    "*>>> import pandas as pd*  \n",
    "*>>> import geopandas as gpd*  \n",
    "*>>> import matplotlib.pyplot as plt*  \n",
    "*>>> import os*"
   ]
  },
  {
   "cell_type": "code",
   "execution_count": 2,
   "metadata": {},
   "outputs": [],
   "source": [
    "import pandas as pd\n",
    "import geopandas as gpd\n",
    "import matplotlib.pyplot as plt\n",
    "import os"
   ]
  },
  {
   "cell_type": "markdown",
   "metadata": {},
   "source": [
    "#### Change your working directory to the home folder\n",
    "\n",
    "Type the following to move back a directory:  \n",
    "*>>> os.chdir('../../')*"
   ]
  },
  {
   "cell_type": "code",
   "execution_count": 3,
   "metadata": {},
   "outputs": [],
   "source": [
    "os.chdir('../..')"
   ]
  },
  {
   "cell_type": "markdown",
   "metadata": {},
   "source": [
    "### Let's get some data, anything will do...\n",
    "\n",
    "Type:  \n",
    "*>>> gpd.read_file('workshopsdata/WAML.geojson')*"
   ]
  },
  {
   "cell_type": "code",
   "execution_count": 3,
   "metadata": {},
   "outputs": [
    {
     "data": {
      "text/html": [
       "<div>\n",
       "<style scoped>\n",
       "    .dataframe tbody tr th:only-of-type {\n",
       "        vertical-align: middle;\n",
       "    }\n",
       "\n",
       "    .dataframe tbody tr th {\n",
       "        vertical-align: top;\n",
       "    }\n",
       "\n",
       "    .dataframe thead th {\n",
       "        text-align: right;\n",
       "    }\n",
       "</style>\n",
       "<table border=\"1\" class=\"dataframe\">\n",
       "  <thead>\n",
       "    <tr style=\"text-align: right;\">\n",
       "      <th></th>\n",
       "      <th>Thing</th>\n",
       "      <th>Exec</th>\n",
       "      <th>geometry</th>\n",
       "    </tr>\n",
       "  </thead>\n",
       "  <tbody>\n",
       "    <tr>\n",
       "      <th>0</th>\n",
       "      <td>T</td>\n",
       "      <td>Bruce</td>\n",
       "      <td>(POLYGON ((-119.9271766 39.1936225, -119.92727...</td>\n",
       "    </tr>\n",
       "    <tr>\n",
       "      <th>1</th>\n",
       "      <td>W</td>\n",
       "      <td>Susan</td>\n",
       "      <td>(POLYGON ((-120.1474632551673 39.3841351669116...</td>\n",
       "    </tr>\n",
       "    <tr>\n",
       "      <th>2</th>\n",
       "      <td>A</td>\n",
       "      <td>Louise</td>\n",
       "      <td>(POLYGON ((-119.9697264965678 39.2644361944219...</td>\n",
       "    </tr>\n",
       "    <tr>\n",
       "      <th>3</th>\n",
       "      <td>M</td>\n",
       "      <td>Tom</td>\n",
       "      <td>(POLYGON ((-119.852629337961 39.27253041522475...</td>\n",
       "    </tr>\n",
       "    <tr>\n",
       "      <th>4</th>\n",
       "      <td>L</td>\n",
       "      <td>Matt</td>\n",
       "      <td>(POLYGON ((-119.7250770759073 39.3582716674715...</td>\n",
       "    </tr>\n",
       "  </tbody>\n",
       "</table>\n",
       "</div>"
      ],
      "text/plain": [
       "  Thing    Exec                                           geometry\n",
       "0     T   Bruce  (POLYGON ((-119.9271766 39.1936225, -119.92727...\n",
       "1     W   Susan  (POLYGON ((-120.1474632551673 39.3841351669116...\n",
       "2     A  Louise  (POLYGON ((-119.9697264965678 39.2644361944219...\n",
       "3     M     Tom  (POLYGON ((-119.852629337961 39.27253041522475...\n",
       "4     L    Matt  (POLYGON ((-119.7250770759073 39.3582716674715..."
      ]
     },
     "execution_count": 3,
     "metadata": {},
     "output_type": "execute_result"
    }
   ],
   "source": [
    "gpd.read_file('workshopdata/WAML.geojson')"
   ]
  },
  {
   "cell_type": "markdown",
   "metadata": {},
   "source": [
    "#### You imported a geojson file named WAML! This is referred to as a GeoDataFrame.\n",
    "\n",
    "Now make it a variable by *typing:*  \n",
    "*>>> waml = gpd.read_file('workshopdata/WAML.geojson')*"
   ]
  },
  {
   "cell_type": "code",
   "execution_count": 4,
   "metadata": {},
   "outputs": [],
   "source": [
    "waml = gpd.read_file('workshopdata/WAML.geojson')"
   ]
  },
  {
   "cell_type": "markdown",
   "metadata": {},
   "source": [
    "#### Nice!\n",
    "\n",
    "What the heck is this thing?\n",
    "\n",
    "Plot it with matplotlib by *typing:*  \n",
    "*>>> waml.plot()*"
   ]
  },
  {
   "cell_type": "code",
   "execution_count": 5,
   "metadata": {},
   "outputs": [
    {
     "data": {
      "text/plain": [
       "<matplotlib.axes._subplots.AxesSubplot at 0x7f78f4d7a7f0>"
      ]
     },
     "execution_count": 5,
     "metadata": {},
     "output_type": "execute_result"
    },
    {
     "data": {
      "image/png": "[encoded data removed]",
      "text/plain": [
       "<Figure size 432x288 with 1 Axes>"
      ]
     },
     "metadata": {
      "needs_background": "light"
     },
     "output_type": "display_data"
    }
   ],
   "source": [
    "waml.plot()"
   ]
  },
  {
   "cell_type": "markdown",
   "metadata": {},
   "source": [
    "## Amazing.\n",
    "\n",
    "Let's now find out the coordinate reference system of WAML.geojson\n",
    "\n",
    "*Type:*  \n",
    "*>>> waml.crs*"
   ]
  },
  {
   "cell_type": "code",
   "execution_count": 6,
   "metadata": {},
   "outputs": [
    {
     "data": {
      "text/plain": [
       "{'init': 'epsg:4326'}"
      ]
     },
     "execution_count": 6,
     "metadata": {},
     "output_type": "execute_result"
    }
   ],
   "source": [
    "waml.crs"
   ]
  },
  {
   "cell_type": "markdown",
   "metadata": {},
   "source": [
    "#### Good. The CRS is epsg 4326... AKA WGS84\n",
    "\n",
    "Let's create a copy of the layer and reset it's CRS to Lambert Conformal Conic\n",
    "\n",
    "*Type:*  \n",
    "*>>> waml_lcc=waml.to_crs(epsg=2163)*"
   ]
  },
  {
   "cell_type": "code",
   "execution_count": 7,
   "metadata": {},
   "outputs": [],
   "source": [
    "waml_lcc = waml.to_crs(epsg=2163)"
   ]
  },
  {
   "cell_type": "markdown",
   "metadata": {},
   "source": [
    "#### Now, let's view the difference\n",
    "\n",
    "*Type:*  \n",
    "*>>> waml_lcc.plot()*"
   ]
  },
  {
   "cell_type": "code",
   "execution_count": 8,
   "metadata": {},
   "outputs": [
    {
     "data": {
      "text/plain": [
       "<matplotlib.axes._subplots.AxesSubplot at 0x7f78f2d17390>"
      ]
     },
     "execution_count": 8,
     "metadata": {},
     "output_type": "execute_result"
    },
    {
     "data": {
      "image/png": "[encoded data removed]",
      "text/plain": [
       "<Figure size 432x288 with 1 Axes>"
      ]
     },
     "metadata": {
      "needs_background": "light"
     },
     "output_type": "display_data"
    }
   ],
   "source": [
    "waml_lcc.plot()"
   ]
  },
  {
   "cell_type": "markdown",
   "metadata": {},
   "source": [
    "#### Okay, there are other methods to reset the crs, too. Let's change it to Transverse Mercator\n",
    "\n",
    "*Type:*  \n",
    "*>>> waml_tm = waml.to_crs({'proj':'tmerc'})*"
   ]
  },
  {
   "cell_type": "code",
   "execution_count": 9,
   "metadata": {},
   "outputs": [],
   "source": [
    "waml_tm = waml.to_crs({'proj':'tmerc'})"
   ]
  },
  {
   "cell_type": "markdown",
   "metadata": {},
   "source": [
    "#### view the difference\n",
    "*Type:*   \n",
    "*>>> waml_tm.plot()*"
   ]
  },
  {
   "cell_type": "code",
   "execution_count": 10,
   "metadata": {},
   "outputs": [
    {
     "data": {
      "text/plain": [
       "<matplotlib.axes._subplots.AxesSubplot at 0x7f78f286fe10>"
      ]
     },
     "execution_count": 10,
     "metadata": {},
     "output_type": "execute_result"
    },
    {
     "data": {
      "image/png": "[encoded data removed]",
      "text/plain": [
       "<Figure size 432x288 with 1 Axes>"
      ]
     },
     "metadata": {
      "needs_background": "light"
     },
     "output_type": "display_data"
    }
   ],
   "source": [
    "waml_tm.plot()"
   ]
  },
  {
   "cell_type": "markdown",
   "metadata": {},
   "source": [
    "#### Let's change it to NAD83 Nevada Central?\n",
    "\n",
    "#### How do I know what code to use? Pro tip: https://spatialreference.org\n",
    "\n",
    "*Type:*  \n",
    "*>>> waml_Nev = waml.to_crs(epsg = 3422)*"
   ]
  },
  {
   "cell_type": "code",
   "execution_count": 11,
   "metadata": {},
   "outputs": [],
   "source": [
    "waml_Nev = waml.to_crs(epsg = 3422)"
   ]
  },
  {
   "cell_type": "markdown",
   "metadata": {},
   "source": [
    "#### Plot it:\n",
    "\n",
    "*Type:*  \n",
    "*>>> waml_Nev.plot()*"
   ]
  },
  {
   "cell_type": "code",
   "execution_count": 12,
   "metadata": {},
   "outputs": [
    {
     "data": {
      "text/plain": [
       "<matplotlib.axes._subplots.AxesSubplot at 0x7f78f2812c18>"
      ]
     },
     "execution_count": 12,
     "metadata": {},
     "output_type": "execute_result"
    },
    {
     "data": {
      "image/png": "[encoded data removed]",
      "text/plain": [
       "<Figure size 432x288 with 1 Axes>"
      ]
     },
     "metadata": {
      "needs_background": "light"
     },
     "output_type": "display_data"
    }
   ],
   "source": [
    "waml_Nev.plot()"
   ]
  },
  {
   "cell_type": "markdown",
   "metadata": {},
   "source": [
    "#### Okay, so far we've basically been creating all this stuff using RAM. Let's export the waml_Nev variable to a shapefile.\n",
    "\n",
    "*Type:*  \n",
    "*>>> waml_Nev.to_file('waml_Nev.shp')*"
   ]
  },
  {
   "cell_type": "code",
   "execution_count": 13,
   "metadata": {},
   "outputs": [],
   "source": [
    "waml_Nev.to_file('waml_Nev.shp')"
   ]
  },
  {
   "cell_type": "markdown",
   "metadata": {},
   "source": [
    "#### Go check your data folder to confirm.\n",
    "\n",
    "## But shapefiles are lame and boring. Let's make a geojson file instead:\n",
    "\n",
    "*Type:*  \n",
    "*>>> waml_Nev.to_file('waml_Nev.geojson', driver='GeoJSON')*"
   ]
  },
  {
   "cell_type": "code",
   "execution_count": 14,
   "metadata": {},
   "outputs": [],
   "source": [
    "waml_Nev.to_file('waml_Nev.geojson', driver = 'GeoJSON')"
   ]
  },
  {
   "cell_type": "markdown",
   "metadata": {},
   "source": [
    "## Nice work!"
   ]
  }
 ],
 "metadata": {
  "kernelspec": {
   "display_name": "Python 3",
   "language": "python",
   "name": "python3"
  },
  "language_info": {
   "codemirror_mode": {
    "name": "ipython",
    "version": 3
   },
   "file_extension": ".py",
   "mimetype": "text/x-python",
   "name": "python",
   "nbconvert_exporter": "python",
   "pygments_lexer": "ipython3",
   "version": "3.6.7"
  }
 },
 "nbformat": 4,
 "nbformat_minor": 2
}
