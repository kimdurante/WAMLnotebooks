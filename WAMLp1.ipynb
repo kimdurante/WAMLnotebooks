{
 "cells": [
  {
   "cell_type": "markdown",
   "metadata": {},
   "source": [
    "## Introduction to Python for Map Librarians"
   ]
  },
  {
   "cell_type": "code",
   "execution_count": null,
   "metadata": {},
   "outputs": [],
   "source": []
  },
  {
   "cell_type": "markdown",
   "metadata": {},
   "source": [
    "### Basic Data Types\n",
    "\n",
    "- Numbers: 6, 2.305, -4\n",
    "- Strings: \"Hello\", \"Reno, Nevada\" , \"3\"\n",
    "- Lists: ['a','b','c','d']\n",
    "\n",
    "Try the following:\n",
    "\n",
    "    >>> print (type(5))\n",
    "    >>> print (type('Reno, Nevada'))\n",
    "    >>> print (type(['maps','atlases',6])\n"
   ]
  },
  {
   "cell_type": "code",
   "execution_count": null,
   "metadata": {},
   "outputs": [],
   "source": []
  },
  {
   "cell_type": "markdown",
   "metadata": {},
   "source": [
    "### Variables\n",
    "\n",
    "Create a variable called __conference__ which contains a string value: __\"WAML\"__\n",
    "\n",
    "Create a variable called __year__ which contains a number: __2019__\n",
    "\n",
    "Create a variable called __days__ which contains a list: __[\"Wednesday\",\"Thursday\",\"Friday\",\"Saturday\"]__\n",
    "\n",
    "\n",
    "    >>> conference = \"WAML\"\n",
    "    >>> year = 2019\n",
    "    >>> list = [\"Wednesday\",\"Thursday\",\"Friday\",\"Saturday\"]\n",
    "    >>> print (conference, year, days)\n",
    "    "
   ]
  },
  {
   "cell_type": "code",
   "execution_count": null,
   "metadata": {},
   "outputs": [],
   "source": []
  },
  {
   "cell_type": "markdown",
   "metadata": {},
   "source": [
    "Assign a new value to the year variable:\n",
    "\n",
    "    >>> year = 2018\n",
    "\n",
    "    >>> print (conference, year, days)"
   ]
  },
  {
   "cell_type": "code",
   "execution_count": null,
   "metadata": {},
   "outputs": [],
   "source": []
  },
  {
   "cell_type": "markdown",
   "metadata": {},
   "source": [
    "### Lists\n",
    "\n",
    "Use __append__ to add an item to a list:\n",
    "\n",
    "    >>> days.append(\"Sunday\")"
   ]
  },
  {
   "cell_type": "code",
   "execution_count": null,
   "metadata": {},
   "outputs": [],
   "source": []
  },
  {
   "cell_type": "markdown",
   "metadata": {},
   "source": [
    "### Concatenating Strings\n",
    "\n",
    "Use + to concatenate string \n",
    "\n",
    "__>>> print (\"Python\" + \"Workshop\")__\n",
    "\n",
    "*PythonWorkshop*\n",
    "\n",
    "__>>> print (\"Python \" + \"Workshop\")__\n",
    "\n",
    "*Python  Workshop*\n",
    "\n",
    "__>>> print (\"Python \" + year)__\n",
    "\n",
    "*TypeError*\n",
    "\n",
    "__>>> print (\"Python \" + str(year))__\n",
    "\n",
    "*Python 2019*\n"
   ]
  },
  {
   "cell_type": "code",
   "execution_count": null,
   "metadata": {},
   "outputs": [],
   "source": []
  },
  {
   "cell_type": "markdown",
   "metadata": {},
   "source": [
    "### Indexing\n",
    "\n",
    "Print the first letter of the variable __conference__:\n",
    "\n",
    "    >>> print (conference[0])\n",
    "\n",
    "Print the fourth letter of the word Geospatial:\n",
    "\n",
    "    >>> print (\"Geospatial\"[3])\n",
    "\n",
    "Print the third item from the list __days__:\n",
    "\n",
    "    >>> print (days[2])\n",
    "\n",
    "Print the last letter of the word Geospatial:\n",
    "\n",
    "    >>> print (\"Geospatial\"[-1])\n",
    "\n",
    "Prints the second to last item from the list __days__:\n",
    "\n",
    "    >>> print (days[-2])\n",
    "\n",
    "Index error:\n",
    "\n",
    "    >>> print (days[14])"
   ]
  },
  {
   "cell_type": "code",
   "execution_count": null,
   "metadata": {
    "scrolled": true
   },
   "outputs": [],
   "source": []
  },
  {
   "cell_type": "markdown",
   "metadata": {},
   "source": [
    "### Slicing\n",
    "\n",
    "Access a subset of data using slice notation\n",
    "\n",
    "    >>> print (conference[0:3])\n",
    "\n",
    "    >>> print (days[1:4])\n",
    "\n",
    "    >>> print (\"Geospatial\"[3:])"
   ]
  },
  {
   "cell_type": "code",
   "execution_count": null,
   "metadata": {},
   "outputs": [],
   "source": []
  },
  {
   "cell_type": "markdown",
   "metadata": {},
   "source": [
    "### Splitting Strings\n",
    "\n",
    "Create a string variable called __place__:\n",
    "\n",
    "    >>> place = \"El Dorado County, California\"\n",
    "\n",
    "Split text using a given delimiter:\n",
    "\n",
    "    >>> print (place)\n",
    "\n",
    "    >>> print (place.split(\",\"))\n",
    "\n",
    "    >>> print (place.split(\" C\"))\n",
    "\n",
    "    >>> print (place.split(\"o\", 2))\n",
    "\n",
    "    >>> print (place.split(\",\")[0])"
   ]
  },
  {
   "cell_type": "code",
   "execution_count": null,
   "metadata": {},
   "outputs": [],
   "source": []
  },
  {
   "cell_type": "markdown",
   "metadata": {},
   "source": [
    "### Loops\n",
    "\n",
    "Repeat actions multiple times using for loops.\n",
    "\n",
    "    >>> print (days)\n",
    "    \n",
    "    >>> for day in days:\n",
    "       >>> print (day)\n",
    "    >>> print (\"Loop finished running!\")   "
   ]
  },
  {
   "cell_type": "code",
   "execution_count": null,
   "metadata": {},
   "outputs": [],
   "source": []
  },
  {
   "cell_type": "markdown",
   "metadata": {},
   "source": [
    "#### The OS Module\n",
    "\n",
    "OS allows for operating system functionality.\n",
    "\n",
    "    import os\n",
    "    print (os.getcwd())\n",
    "    print (os.listdir())"
   ]
  },
  {
   "cell_type": "code",
   "execution_count": null,
   "metadata": {},
   "outputs": [],
   "source": []
  },
  {
   "cell_type": "markdown",
   "metadata": {},
   "source": [
    "#### Help Documentation\n",
    "\n",
    "Using __help( )__ to view documentation for a module\n",
    "\n",
    "    >>> help(os)\n",
    "\n",
    "    >>> help(os.getcwd)"
   ]
  },
  {
   "cell_type": "code",
   "execution_count": null,
   "metadata": {},
   "outputs": [],
   "source": []
  },
  {
   "cell_type": "markdown",
   "metadata": {},
   "source": [
    "Now use OS to go back one level in your directory to the home folder. \"../\" navigates back a folder.\n",
    "\n",
    "    >>> os.chdir('../')\n",
    "    >>> print (os.getcwd())"
   ]
  },
  {
   "cell_type": "code",
   "execution_count": null,
   "metadata": {},
   "outputs": [],
   "source": []
  },
  {
   "cell_type": "markdown",
   "metadata": {},
   "source": [
    "#### Pandas\n",
    "\n",
    "Import the Pandas library using a common shortcut:\n",
    "\n",
    "    >>> import pandas as pd"
   ]
  },
  {
   "cell_type": "code",
   "execution_count": null,
   "metadata": {},
   "outputs": [],
   "source": []
  },
  {
   "cell_type": "markdown",
   "metadata": {},
   "source": [
    "#### Reading a File into a Dataframe\n",
    "\n",
    "Use __read_csv( )__ to import a file into a dataframe:\n",
    "\n",
    "    >>> pd.read_csv('workshopdata/California_Tahoe_Counties_raw.csv')"
   ]
  },
  {
   "cell_type": "code",
   "execution_count": null,
   "metadata": {},
   "outputs": [],
   "source": []
  },
  {
   "cell_type": "markdown",
   "metadata": {},
   "source": [
    "Create a variable for a dataframe called __California__ and read a csv file into it.\n",
    "\n",
    "    >>> California = pd.read_csv(\"workshopdata/California_Tahoe_Counties_raw.csv\", dtype={\"FIPS\":str}\n",
    "\n",
    "    >>> California"
   ]
  },
  {
   "cell_type": "code",
   "execution_count": null,
   "metadata": {},
   "outputs": [],
   "source": []
  },
  {
   "cell_type": "markdown",
   "metadata": {},
   "source": [
    "#### Drop the first row\n",
    "\n",
    "Use the __drop__ to remove the first row:\n",
    "\n",
    "    >>> California = California.drop[0]\n",
    "\n",
    "    >>> California"
   ]
  },
  {
   "cell_type": "code",
   "execution_count": null,
   "metadata": {},
   "outputs": [],
   "source": []
  },
  {
   "cell_type": "markdown",
   "metadata": {},
   "source": [
    "Use __shape__ to view the dimensions (rows, columns) of the dataframe\n",
    "\n",
    "    >>> California.shape"
   ]
  },
  {
   "cell_type": "code",
   "execution_count": null,
   "metadata": {},
   "outputs": [],
   "source": []
  },
  {
   "cell_type": "markdown",
   "metadata": {},
   "source": [
    "Use __rename__ to rename a column\n",
    "\n",
    "    >>> California = California.rename(columns = {'FIPS':'GEOID'})"
   ]
  },
  {
   "cell_type": "code",
   "execution_count": null,
   "metadata": {},
   "outputs": [],
   "source": []
  },
  {
   "cell_type": "markdown",
   "metadata": {},
   "source": [
    "#### Setting an Column Index  \n",
    "    >>> California.set_index(\"GEOID\")"
   ]
  },
  {
   "cell_type": "code",
   "execution_count": null,
   "metadata": {},
   "outputs": [],
   "source": []
  },
  {
   "cell_type": "markdown",
   "metadata": {},
   "source": [
    "### Finding and Selecting Data\n",
    "\n",
    "#### Select by Column\n",
    "\n",
    "    >>> California[\"GEOID\"]"
   ]
  },
  {
   "cell_type": "code",
   "execution_count": null,
   "metadata": {},
   "outputs": [],
   "source": []
  },
  {
   "cell_type": "markdown",
   "metadata": {},
   "source": [
    "#### Select Multiple Columns:\n",
    "\n",
    "    >>> California[['GEOID','Name of Area']]"
   ]
  },
  {
   "cell_type": "code",
   "execution_count": null,
   "metadata": {},
   "outputs": [],
   "source": []
  },
  {
   "cell_type": "markdown",
   "metadata": {},
   "source": [
    "#### Select a single row\n",
    "\n",
    "Use __loc__ to select one or more rows\n",
    "\n",
    "    >>> California.loc[6]"
   ]
  },
  {
   "cell_type": "code",
   "execution_count": null,
   "metadata": {},
   "outputs": [],
   "source": []
  },
  {
   "cell_type": "markdown",
   "metadata": {},
   "source": [
    "#### Select a Subset of Rows\n",
    "\n",
    "    >>> California.loc[0:5]"
   ]
  },
  {
   "cell_type": "code",
   "execution_count": null,
   "metadata": {},
   "outputs": [],
   "source": []
  },
  {
   "cell_type": "markdown",
   "metadata": {},
   "source": [
    "### Create a new dataframe\n",
    "\n",
    "Create a variable __Cal_Cos__ with the value being the __California__ data frame. \n",
    "\n",
    "Set the dataframe index to __GEOID__\n",
    "\n",
    "    >>> Cal_Cos = California.set_index(\"GEOID\")\n",
    "\n",
    "    >>> Cal_Cos"
   ]
  },
  {
   "cell_type": "code",
   "execution_count": null,
   "metadata": {},
   "outputs": [],
   "source": []
  },
  {
   "cell_type": "code",
   "execution_count": null,
   "metadata": {},
   "outputs": [],
   "source": []
  },
  {
   "cell_type": "markdown",
   "metadata": {},
   "source": [
    "#### Adding a New Column\n",
    "\n",
    "Add a new column called __Year__ and assign a value of __2017__\n",
    "\n",
    "    >>> Cal_Cos[\"Year\"] = 2017\n",
    "\n",
    "    >>> Cal_Cos\n",
    "    \n",
    "The new column is added to the end of the dataframe."
   ]
  },
  {
   "cell_type": "code",
   "execution_count": null,
   "metadata": {},
   "outputs": [],
   "source": []
  },
  {
   "cell_type": "markdown",
   "metadata": {},
   "source": [
    "Create a column for the County by extracting the county name from the \"Name of Area\" column:\n",
    "\n",
    "    >>> County = Cal_Cos[\"Name of Area\"].str.split(',', n = 2, expand=True)\n",
    "\n",
    "    >>> Cal_Cos[\"County Name\"] = County[1]\n",
    "\n",
    "    >>> Cal_Cos"
   ]
  },
  {
   "cell_type": "code",
   "execution_count": null,
   "metadata": {},
   "outputs": [],
   "source": []
  },
  {
   "cell_type": "markdown",
   "metadata": {},
   "source": [
    "#### Exporting the Dataframe\n",
    "\n",
    "Use __to_csv( )__ to write the dataframe to a *.csv*\n",
    "\n",
    "    >>> Cal_Cos.to_csv(\"California_Counties.csv\")"
   ]
  },
  {
   "cell_type": "code",
   "execution_count": null,
   "metadata": {},
   "outputs": [],
   "source": []
  },
  {
   "cell_type": "markdown",
   "metadata": {},
   "source": [
    "Repeat the same steps for \"Nevada_Tahoe_Counties_raw.csv\":\n",
    "\n",
    "    >>> Nevada = pd.read_csv('workshopdata/Nevada_Tahoe_Counties_raw.csv', dtype={\"FIPS\":str})\n",
    "\n",
    "    >>> Nevada = Nevada.drop([0])\n",
    "    \n",
    "    >>> Nevada = Nevada.rename(columns={'FIPS':'GEOID'})\n",
    "\n",
    "    >>> Nev_Cos = Nevada.set_index('GEOID')\n",
    "\n",
    "    >>> Nev_Cos[\"Year\"] = 2017\n",
    "\n",
    "    >>> County = Nev_Cos[\"Name of Area\"].str.split(',', n = 2, expand=True)\n",
    "\n",
    "    >>> Nev_Cos[\"County Name\"] = County[1]\n",
    "\n",
    "    >>> Nev_Cos.to_csv('Nevada_Counties.csv')\n",
    "\n",
    "    >>> Nev_Cos = pd.read_csv('Nevada_Counties.csv')\n",
    "    \n",
    "    \n",
    "    \n",
    "    "
   ]
  },
  {
   "cell_type": "code",
   "execution_count": null,
   "metadata": {},
   "outputs": [],
   "source": []
  },
  {
   "cell_type": "markdown",
   "metadata": {},
   "source": [
    "### Repeating Actions with Loops\n",
    "\n",
    "\n",
    "#### Finding Files\n",
    "\n",
    "The __glob__ module finds all files in a directory matching a particular pattern.\n",
    "\n",
    "Create a variable called __raw_files__ and use glob to search for all files containing *raw.csv*\n",
    "\n",
    "    >>> import glob\n",
    "\n",
    "    >>> raw_files = glob.glob(\"*raw.csv\")\n",
    "\n",
    "    >>> print (raw_files)"
   ]
  },
  {
   "cell_type": "code",
   "execution_count": null,
   "metadata": {},
   "outputs": [],
   "source": []
  },
  {
   "cell_type": "markdown",
   "metadata": {},
   "source": [
    "Loop over the list of files and read each csv into a dataframe called __data__."
   ]
  },
  {
   "cell_type": "code",
   "execution_count": null,
   "metadata": {},
   "outputs": [],
   "source": []
  },
  {
   "cell_type": "markdown",
   "metadata": {},
   "source": [
    "Perform the following actions on each dataframe object:\n",
    "\n",
    "Drop the first row\n",
    "\n",
    "Rename FIPS to GEOID\n",
    "\n",
    "Set index to \"GEOID\"\n",
    "\n",
    "Add a column for year with the value 2017\n",
    "\n",
    "Extract the county name and create a new column with that value\n",
    "\n",
    "Create a new filename using the string up until the first underscore + \"Counties.\"\n",
    "\n",
    "Write the csv data to the home directory.\n"
   ]
  },
  {
   "cell_type": "code",
   "execution_count": null,
   "metadata": {},
   "outputs": [],
   "source": [
    "for f in raw_files:\n",
    "    print(f)\n",
    "    data = pd.read_csv(f)\n",
    "    data = data.drop([0])\n",
    "    data = data.rename(columns={'FIPS':'GEOID'})\n",
    "    data = data.set_index(\"GEOID\")\n",
    "    data[\"Year\"] = 2017\n",
    "    Count = data[\"Name of Area\"].str.split(',', n = 2, expand=True)\n",
    "    data[\"County Name\"] = County[1]\n",
    "    fileName = f.replace('/','_')\n",
    "    fileName = fileName.split('_')[1] + \"_Counties\"\n",
    "    data.to_csv(fileName + '.csv')\n",
    "print(\"\\n\" + \"Done\")"
   ]
  },
  {
   "cell_type": "markdown",
   "metadata": {},
   "source": [
    "### Concatenate Data\n",
    "\n",
    "Use __concat( )__ to concatenate files\n",
    "\n",
    "\n",
    "    >>> pd.concat([Cal_Cos, Nev_Cos])"
   ]
  },
  {
   "cell_type": "code",
   "execution_count": null,
   "metadata": {},
   "outputs": [],
   "source": []
  },
  {
   "cell_type": "markdown",
   "metadata": {},
   "source": [
    "Create a variable called __All_Cos__ and concatenate __Cal_Cos__ and __Nev_Cos__.   \n",
    "\n",
    "Then write __All_Cos__ to a csv file called \"All_Counties.csv\""
   ]
  },
  {
   "cell_type": "code",
   "execution_count": null,
   "metadata": {},
   "outputs": [],
   "source": []
  },
  {
   "cell_type": "code",
   "execution_count": null,
   "metadata": {},
   "outputs": [],
   "source": []
  },
  {
   "cell_type": "markdown",
   "metadata": {},
   "source": [
    "__Tip__\n",
    "\n",
    "The command *%whos* will output a list of all variables and modules currently being used by the program"
   ]
  },
  {
   "cell_type": "code",
   "execution_count": null,
   "metadata": {},
   "outputs": [],
   "source": []
  }
 ],
 "metadata": {
  "kernelspec": {
   "display_name": "Python 3",
   "language": "python",
   "name": "python3"
  },
  "language_info": {
   "codemirror_mode": {
    "name": "ipython",
    "version": 3
   },
   "file_extension": ".py",
   "mimetype": "text/x-python",
   "name": "python",
   "nbconvert_exporter": "python",
   "pygments_lexer": "ipython3",
   "version": "3.6.7"
  }
 },
 "nbformat": 4,
 "nbformat_minor": 2
}
